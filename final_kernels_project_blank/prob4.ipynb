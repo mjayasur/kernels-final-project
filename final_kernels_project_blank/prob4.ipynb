{
 "cells": [
  {
   "cell_type": "code",
   "execution_count": null,
   "metadata": {},
   "outputs": [],
   "source": [
    "import pandas as pd\n",
    "import numpy as np\n",
    "import matplotlib as plt\n",
    "import seaborn as sns\n",
    "from sklearn.svm import SVC"
   ]
  },
  {
   "cell_type": "markdown",
   "metadata": {},
   "source": [
    "## Question 5) String kernels\n",
    "*Note: data taken from https://cseweb.ucsd.edu/classes/wi17/cse151-a/hw5.pdf along with inspiration for this problem.*  \n",
    "\n",
    "As we've seen, kernels have wide applications. We've seen kernels be a time efficient way to lift a feature matrix in many different contexts like PCA, Perceptrons, SVM's and Ridge Regression. One great property of kernels is the ability to supply any valid kernel function to one of our kernelized model it will work within that space.  \n",
    "For this problem, we will be working with **string kernels**, which apply kernel functions to text data so that models like SVM can work with them. Remember kernel functions are essentially similarity functions. Therefore, string kernel functions generally tell us how similar two strings are. \n"
   ]
  },
  {
   "cell_type": "markdown",
   "metadata": {},
   "source": [
    "### Question 5a)\n",
    "First, let's take a look at our data."
   ]
  },
  {
   "cell_type": "code",
   "execution_count": null,
   "metadata": {},
   "outputs": [],
   "source": [
    "train_data = pd.read_csv('string_train.csv')\n",
    "train_data.head()"
   ]
  },
  {
   "cell_type": "markdown",
   "metadata": {},
   "source": [
    "The sequence is a sequence of amino acids, and the classification is whether or not the sequence belongs to a particular protein family or not.  \n",
    "Visualize the number of positive and negative sequences we have using a barplot."
   ]
  },
  {
   "cell_type": "code",
   "execution_count": null,
   "metadata": {},
   "outputs": [],
   "source": [
    "# START TODO\n",
    "\n",
    "# END TODO"
   ]
  },
  {
   "cell_type": "markdown",
   "metadata": {},
   "source": [
    "Answer the following questions.  \n",
    "* **Brainstorm some ways to deal with this text data. How can we compute similarity between two strings?**\n",
    "* **Does the imbalance in data matter? Why or why not?**"
   ]
  },
  {
   "cell_type": "markdown",
   "metadata": {},
   "source": [
    "### Question 5b)\n",
    "For this problem, we are going to be using the **Spectrum Kernel**, one of the most simple string kernels. The basic idea behind the kernel is that two strings with more common substrings will be more similar. What is a substring? A substring is any contiguous sequence of characters within a string. The kernel function the **p-spectrum kernel** expresses this idea. $k(s_1, s_2)$ counts all size $p$ substrings that are present in both the string $s_1$ and the string $s_2$.   \n",
    "\n",
    "Fill out the code below to finish the implementation of the kernel.  \n",
    "\n",
    "\n",
    "*Note 1: There are many other valid string kernels, many of which are much better and domain specific than this one. For more string kernels, check here https://people.eecs.berkeley.edu/~jordan/kernels/0521813972c11_p344-396.pdf. In fact, Michael I Jordan has a whole book on kernels for pattern recognition that might be fun to look at.*  \n",
    "*Note 2: Section 1.4.6.2.2 https://scikit-learn.org/stable/modules/svm.html#kernel-functions might be useful.*"
   ]
  },
  {
   "cell_type": "code",
   "execution_count": null,
   "metadata": {},
   "outputs": [],
   "source": [
    "def p_spectrum(s, t, p):\n",
    "    num_in_common = ...\n",
    "    # START TODO\n",
    "    num_in_common = 0\n",
    "    for i in range(len(s) - p + 1):\n",
    "        curr = s[i:i+p]\n",
    "        if curr in t:\n",
    "            num_in_common += 1\n",
    "    # END TODO\n",
    "    return num_in_common"
   ]
  },
  {
   "cell_type": "markdown",
   "metadata": {},
   "source": [
    "Now that we have our kernel function defined, let's actually use it to classify our dataset. We will be using an SVM classifier. Unfortunately, scikit learn doesn't support string kernel functions for SVM's, but there are a few work arounds. The first work around is precomputing the **Gram matrix** $K$ for our data, and then running an SVM on it. Remember, all we need is the Gram matrix to do classification.  \n",
    "\n",
    "*Note: it will take a few seconds to a minute to run this part of the code.*"
   ]
  },
  {
   "cell_type": "code",
   "execution_count": null,
   "metadata": {},
   "outputs": [],
   "source": [
    "X_train = np.array(train_data[\"Sequence\"])\n",
    "y_train = np.array(train_data[\"Classification\"])\n",
    "\n",
    "def compute_gram_matrix(X_one, X_two, y, p=3):\n",
    "    # START COMPUTE GRAM MATRIX\n",
    "    K = np.zeros((X_one.shape[0], X_two.shape[0]))\n",
    "    for s_index, s in enumerate(X_one):\n",
    "        for t_index, t in enumerate(X_two):\n",
    "            K[s_index][t_index] = p_spectrum(s, t, p)\n",
    "    # END COMPUTE GRAM MATRIX\n",
    "    return K\n"
   ]
  },
  {
   "cell_type": "code",
   "execution_count": null,
   "metadata": {},
   "outputs": [],
   "source": [
    "K_train = ...\n",
    "# START TODO\n",
    "K_train = compute_gram_matrix(X_train, X_train, y_train)\n",
    "# END TODO\n",
    "print (K_train.shape)\n",
    "K_train"
   ]
  },
  {
   "cell_type": "markdown",
   "metadata": {},
   "source": [
    "### Question 5c)\n",
    "Now let's try some classifiers out. Let's start with the SVM classifier. Complete the below code to fit an SVM model with our precomputed Gram matrix and print out the accuracy on the train set."
   ]
  },
  {
   "cell_type": "code",
   "execution_count": null,
   "metadata": {},
   "outputs": [],
   "source": [
    "clf = SVC(kernel='precomputed')\n",
    "clf.fit(K_train, y_train)\n",
    "score = clf.score(K_train, y_train)\n",
    "\n",
    "print (\"Accuracy on the training data: \" + str(score))"
   ]
  },
  {
   "cell_type": "markdown",
   "metadata": {},
   "source": [
    "Now calculate the accuracy on the testing data."
   ]
  },
  {
   "cell_type": "code",
   "execution_count": null,
   "metadata": {},
   "outputs": [],
   "source": [
    "test_data = pd.read_csv('string_test.csv')\n",
    "X_test = np.array(test_data[\"Sequence\"])\n",
    "y_test = np.array(test_data[\"Classification\"])\n",
    "\n",
    "# START TODO\n",
    "K_test = compute_gram_matrix(X_test, X_train, y_test)\n",
    "y_pred = clf.predict(K_test)\n",
    "\n",
    "# END TODO\n",
    "score = clf.score(K_test, y_test)\n",
    "print (\"Accuracy on the testing data: \" + str(score))\n"
   ]
  },
  {
   "cell_type": "markdown",
   "metadata": {},
   "source": [
    "Answer the following questions.  \n",
    "* **What was your accuracy on the test dataset? Was it different from the training dataset?**\n",
    "* **Can you think of any improvements to our kernel function?**"
   ]
  },
  {
   "cell_type": "markdown",
   "metadata": {},
   "source": [
    "Congrats! You just used string kernels to classify a real dataset of Amino Acid sequences! Hopefully you can see the power of kernels from this example. Further applications include Graph kernels, Tree kernels, kernels for images... the possibilities are endless!  \n",
    "If you want to learn more, read some of Michael I Jordan's stuff on this subject here: https://people.eecs.berkeley.edu/~jordan/kernels/0521813972pre_pi-xiv.pdf  \n",
    "If you're interested in string kernels, here are some good papers to read that build upon the simple p-spectrum kernel we used in this example!  \n",
    "* Mismatch kernels - https://papers.nips.cc/paper/2179-mismatch-string-kernels-for-svm-protein-classification.pdf \n",
    "* Gappy kernels - https://www.semanticscholar.org/paper/A-fast-%2C-large-scale-learning-method-for-protein-Kuksa-Huang/bd5a49164b7d0a9179ef5cb39148279825877a7f\n",
    "* Motif kernels - https://almob.biomedcentral.com/articles/10.1186/1748-7188-1-21\n",
    "* More spectrum kernels - https://pubmed.ncbi.nlm.nih.gov/11928508/"
   ]
  },
  {
   "cell_type": "code",
   "execution_count": null,
   "metadata": {},
   "outputs": [],
   "source": []
  }
 ],
 "metadata": {
  "kernelspec": {
   "display_name": "Python 3",
   "language": "python",
   "name": "python3"
  },
  "language_info": {
   "codemirror_mode": {
    "name": "ipython",
    "version": 3
   },
   "file_extension": ".py",
   "mimetype": "text/x-python",
   "name": "python",
   "nbconvert_exporter": "python",
   "pygments_lexer": "ipython3",
   "version": "3.7.3"
  }
 },
 "nbformat": 4,
 "nbformat_minor": 2
}
